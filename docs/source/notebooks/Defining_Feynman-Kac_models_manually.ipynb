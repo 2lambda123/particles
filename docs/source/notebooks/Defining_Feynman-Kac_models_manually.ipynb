{
 "cells": [
  {
   "cell_type": "markdown",
   "metadata": {},
   "source": [
    "# Manual definition of Feynman-Kac models\n",
    "\n",
    "It is not particularly difficult to define manually your own `FeynmanKac` classes. Consider the following problem: we would like to approximate the probability that $X_t \\in [a,b]$ for all $0\\leq t < T$, where $(X_t)$ is a random walk: $X_0\\sim N(0,1)$, and \n",
    "$$ X_t | X_{t-1} = x_{t-1} \\sim N(x_{t-1}, 1).$$\n",
    "\n",
    "This probability, at time $t$, equals $L_t$, the normalising constant of the following Feynman-Kac sequence of distributions: \n",
    "\n",
    "\\begin{equation}\n",
    "\\mathbb{Q}_t(dx_{0:t}) = \\frac{1}{L_t} M_0(dx_0)\\prod_{s=1}^t M_s(x_{s-1},dx_s)\n",
    "\\prod_{s=0}^t G_s(x_{s-1}, x_s)\n",
    "\\end{equation}\n",
    "\n",
    "where: \n",
    "\n",
    "* $M_0(dx_0)$ is the $N(0,1)$ distribution; \n",
    "* $M_s(x_{s-1},dx_s)$ is the $N(x_{s-1}, 1)$ distribution; \n",
    "* $G_s(x_{s-1}, x_s)= \\mathbb{1}_{[0,\\epsilon]}(x_s)$\n",
    "\n",
    "Let's define the corresponding `FeymanKac` object:"
   ]
  },
  {
   "cell_type": "code",
   "execution_count": 1,
   "metadata": {},
   "outputs": [],
   "source": [
    "%matplotlib inline\n",
    "import warnings; warnings.simplefilter('ignore')  # hide warnings \n",
    "\n",
    "from matplotlib import pyplot as plt\n",
    "import seaborn as sb\n",
    "import numpy as np\n",
    "from scipy import stats\n",
    "\n",
    "import particles\n",
    "\n",
    "class GaussianProb(particles.FeynmanKac):\n",
    "    def __init__(self, a=0., b=1., T=10):\n",
    "        self.a, self.b, self.T = a, b, T\n",
    "\n",
    "    def M0(self, N):\n",
    "        return stats.norm.rvs(size=N)\n",
    "\n",
    "    def M(self, t, xp):\n",
    "        return stats.norm.rvs(loc=xp, size=xp.shape)\n",
    "    \n",
    "    def logG(self, t, xp, x):\n",
    "        return np.where((x < self.b) & (x > self.a), 0., -np.inf)"
   ]
  },
  {
   "cell_type": "markdown",
   "metadata": {},
   "source": [
    "The class above defines: \n",
    "\n",
    "* the initial distribution, $M_0(dx_0)$ and the kernels $M_t(x_{t-1}, dx_t)$, through methods `M0(self, N)` and `M(self, t, xp)`. In fact, these methods simulate $N$ random variables from the corresponding distributions. \n",
    "* Function `logG(self, t, xp, x)` returns the log of function $G_t(x_{t-1}, x_t)$.\n",
    "\n",
    "Methods `M0` and `M` also define implicitly how the $N$ particles should be represented internally: as a (N,) numpy array. Indeed, at time $0$, method `M0` generates a (N,) numpy array, and at times $t\\geq 1$, method `M` takes as an input (`xp`) and returns as an output arrays of shape (N,). We could use another type of object to represent our $N$ particles; for instance, the `smc_samplers` module defines a `ThetaParticles` class for storing $N$ particles representing $N$ parameter values (and associated information).\n",
    "\n",
    "Now let's run the corresponding SMC algorithm:"
   ]
  },
  {
   "cell_type": "code",
   "execution_count": 2,
   "metadata": {},
   "outputs": [
    {
     "data": {
      "image/png": "[encoded data removed]",
      "text/plain": [
       "<Figure size 432x288 with 1 Axes>"
      ]
     },
     "metadata": {},
     "output_type": "display_data"
    }
   ],
   "source": [
    "fk_gp = GaussianProb(a=0., b=1., T=30)\n",
    "alg = particles.SMC(fk=fk_gp, N=100)\n",
    "alg.run()\n",
    "\n",
    "plt.style.use('ggplot')\n",
    "plt.plot(alg.summaries.logLts)\n",
    "plt.xlabel('t')\n",
    "plt.ylabel(r'log-probability');"
   ]
  },
  {
   "cell_type": "markdown",
   "metadata": {},
   "source": [
    "That was not so hard. However our implementation suffers from several limitations: \n",
    "\n",
    "1. The SMC sampler we ran may be quite inefficient when interval $[a,b]$ is small; in that case many particles should get a zero weight at each iteration. \n",
    "2. We cannot currently run the SQMC algorithm (the quasi Monte Carlo version of SMC); to do so, we need to specify the Markov kernels $M_t$ in a different way: not as simulators, but as deterministic functions that take as inputs uniform variates (see below). \n",
    " \n",
    "Let's address the second point: "
   ]
  },
  {
   "cell_type": "code",
   "execution_count": 3,
   "metadata": {},
   "outputs": [],
   "source": [
    "class GaussianProb(particles.FeynmanKac):\n",
    "    du = 1  # dimension of uniform variates\n",
    "    \n",
    "    def __init__(self, a=0., b=1., T=10):\n",
    "        self.a, self.b, self.T = a, b, T\n",
    "\n",
    "    def M0(self, N):\n",
    "        return stats.norm.rvs(size=N)\n",
    "\n",
    "    def M(self, t, xp):\n",
    "        return stats.norm.rvs(loc=xp, size=xp.shape)\n",
    "    \n",
    "    def Gamma0(self, u):\n",
    "        return stats.norm.ppf(u)\n",
    "    \n",
    "    def Gamma(self, t, xp, u):\n",
    "        return stats.norm.ppf(u, loc=xp)\n",
    "    \n",
    "    def logG(self, t, xp, x):\n",
    "        return np.where((x < self.b) & (x > self.a), 0., -np.inf)   \n",
    "    \n",
    "fk_gp = GaussianProb(a=0., b=1., T=30)"
   ]
  },
  {
   "cell_type": "markdown",
   "metadata": {},
   "source": [
    "We have added: \n",
    "\n",
    "* methods `Gamma0` and `Gamma`, which define the deterministic functions $\\Gamma_0$ and $\\Gamma$ we mentioned above. Mathematically, for $U\\sim \\mathcal{U}([0,1]^{d_u})$, then $\\Gamma_0(U)$ is distributed according to $M_0(dx_0)$, and $\\Gamma_t(x_{t-1}, U)$ is distributed according to $M_t(x_{t-1}, dx_t)$. \n",
    "* class attribute `du`, i.e. $d_u$, the dimension of the $u$-argument of functions $\\Gamma_0$ and $\\Gamma_t$. \n",
    "\n",
    "We are now able to run both the SMC and the SQMC algorithms that corresponds to the Feyman-Kac model of interest; let's compare their respective performance.  (Recall that function ``multiSMC`` runs several algorithms multiple times,  possibly with varying parameters; here we vary parameter `qmc`, which determines whether we run SMC or SMQC.)"
   ]
  },
  {
   "cell_type": "code",
   "execution_count": 5,
   "metadata": {},
   "outputs": [
    {
     "data": {
      "image/png": "[encoded data removed]",
      "text/plain": [
       "<Figure size 432x288 with 1 Axes>"
      ]
     },
     "metadata": {},
     "output_type": "display_data"
    }
   ],
   "source": [
    "results = particles.multiSMC(fk=fk_gp, qmc={'smc': False, 'sqmc': True}, N=100, nruns=10)\n",
    "\n",
    "sb.boxplot(x=[r['qmc'] for r in results], y=[r['output'].logLt for r in results]);"
   ]
  },
  {
   "cell_type": "markdown",
   "metadata": {},
   "source": [
    "We do get some variance reduction, but not so much. Let's see if we can do better by addressing point 1 above.\n",
    "\n",
    "The considered problem has the structure of a state-space model, where process $(X_t)$ is a random walk, $Y_t = \\mathbb{1}_{[a,b]}(X_t)$, and $y_t=1$ for all $t$'s. This remark leads us to define alternative Feynman-Kac models, that would correspond to *guided* and *auxiliary* formalisms of that state-space model. In particular, for the guided filter, the  optimal proposal distribution, i.e. the distribution of $X_t|X_{t-1}, Y_t$, is simply a Gaussian distribution truncated to interval $[a, b]$; let's implement the corresponding Feynman-Kac class. "
   ]
  },
  {
   "cell_type": "code",
   "execution_count": 6,
   "metadata": {},
   "outputs": [],
   "source": [
    "def logprobint(a, b, x):\n",
    "    \"\"\" returns log probability that X_t\\in[a,b] conditional on X_{t-1}=x\n",
    "    \"\"\"\n",
    "    return np.log(stats.norm.cdf(b - x) - stats.norm.cdf(a - x))\n",
    "\n",
    "class Guided_GP(GaussianProb):\n",
    "\n",
    "    def Gamma(self, t, xp, u):\n",
    "        au = stats.norm.cdf(self.a - xp)\n",
    "        bu = stats.norm.cdf(self.b - xp)\n",
    "        return xp + stats.norm.ppf(au + u * (bu - au))\n",
    "\n",
    "    def Gamma0(self, u):\n",
    "        return self.Gamma(0, 0., u)\n",
    "\n",
    "    def M(self, t, xp):\n",
    "        return self.Gamma(t, xp, stats.uniform.rvs(size=xp.shape))\n",
    "\n",
    "    def M0(self, N):\n",
    "        return self.Gamma0(stats.uniform.rvs(size=N))\n",
    "\n",
    "    def logG(self, t, xp, x):\n",
    "        if t == 0:\n",
    "            return np.full(x.shape, logprobint(self.a, self.b, 0.))\n",
    "        else:\n",
    "            return logprobint(self.a, self.b, xp)\n",
    "         \n",
    "fk_guided = Guided_GP(a=0., b=1., T=30)        "
   ]
  },
  {
   "cell_type": "markdown",
   "metadata": {},
   "source": [
    "In this particular case, it is a bit more convenient to define methods `Gamma0` and `Gamma` first, and then define methods `M0` and `M`. \n",
    "\n",
    "To derive the APF version, we must define the auxiliary functions (functions $\\eta_t$ in Chapter 10 of the book) that modify the resampling probabilities; in practice, we define the log of these functions, \n",
    "as follows:"
   ]
  },
  {
   "cell_type": "code",
   "execution_count": 7,
   "metadata": {},
   "outputs": [],
   "source": [
    "class APF_GP(Guided_GP):    \n",
    "    def logeta(self, t, x):\n",
    "        return logprobint(self.a, self.b, x)\n",
    "    \n",
    "fk_apf = APF_GP(a=0., b=1., T=30)   "
   ]
  },
  {
   "cell_type": "markdown",
   "metadata": {},
   "source": [
    "Ok, now everything is set! We can do a 3x2 comparison of SMC versus SQMC, for the 3 considered Feynman-Kac models. "
   ]
  },
  {
   "cell_type": "code",
   "execution_count": 8,
   "metadata": {},
   "outputs": [
    {
     "data": {
      "image/png": "[encoded data removed]",
      "text/plain": [
       "<Figure size 432x288 with 1 Axes>"
      ]
     },
     "metadata": {},
     "output_type": "display_data"
    }
   ],
   "source": [
    "results = particles.multiSMC(fk={'boot':fk_gp, 'guided':fk_guided, 'apf': fk_apf}, \n",
    "                          N=100, qmc={'smc': False, 'sqmc': True}, nruns=20)\n",
    "\n",
    "sb.boxplot(x=['%s-%s'%(r['fk'], r['qmc'])  for r in results], y=[r['output'].logLt for r in results]);"
   ]
  },
  {
   "cell_type": "markdown",
   "metadata": {},
   "source": [
    "Let's discard the bootstrap algorithms to better visualise the results for the other algorithms:"
   ]
  },
  {
   "cell_type": "code",
   "execution_count": 9,
   "metadata": {},
   "outputs": [
    {
     "data": {
      "image/png": "[encoded data removed]",
      "text/plain": [
       "<Figure size 432x288 with 1 Axes>"
      ]
     },
     "metadata": {},
     "output_type": "display_data"
    }
   ],
   "source": [
    "res_noboot = [r for r in results if r['fk']!='boot']\n",
    "sb.boxplot(x=['%s-%s'%(r['fk'], r['qmc'])  for r in res_noboot], y=[r['output'].logLt for r in res_noboot]);"
   ]
  },
  {
   "cell_type": "markdown",
   "metadata": {},
   "source": [
    "Voilà!"
   ]
  }
 ],
 "metadata": {
  "kernelspec": {
   "display_name": "Python 3",
   "language": "python",
   "name": "python3"
  },
  "language_info": {
   "codemirror_mode": {
    "name": "ipython",
    "version": 3
   },
   "file_extension": ".py",
   "mimetype": "text/x-python",
   "name": "python",
   "nbconvert_exporter": "python",
   "pygments_lexer": "ipython3",
   "version": "3.6.8"
  }
 },
 "nbformat": 4,
 "nbformat_minor": 1
}

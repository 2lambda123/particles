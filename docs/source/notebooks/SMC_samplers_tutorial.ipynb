{
 "cells": [
  {
   "cell_type": "markdown",
   "metadata": {},
   "source": [
    "# SMC samplers\n",
    "SMC samplers are SMC algorithms that sample from a sequence of target distributions. In this tutorial, these target distributions will be Bayesian posterior distributions of static models. SMC samplers are covered in Chapter 17 of the book.\n",
    "\n",
    "## Defining a static model\n",
    "\n",
    "A static model is a Python object that represents a Bayesian model with static parameter $\\theta$. One may define a static model by subclassing base class `StaticModel`, and defining method `logpyt`, which evaluates the log-likelihood of datapoint $Y_t$ (given $\\theta$ and past datapoints $Y_{0:t-1}$). Here is a simple example: "
   ]
  },
  {
   "cell_type": "code",
   "execution_count": 1,
   "metadata": {},
   "outputs": [],
   "source": [
    "%matplotlib inline\n",
    "import warnings; warnings.simplefilter('ignore')  # hide warnings \n",
    "\n",
    "from matplotlib import pyplot as plt\n",
    "import seaborn as sb\n",
    "from scipy import stats\n",
    "\n",
    "import particles\n",
    "from particles import smc_samplers as ssp\n",
    "from particles import distributions as dists\n",
    "\n",
    "class ToyModel(ssp.StaticModel):\n",
    "    def logpyt(self, theta, t):  # density of Y_t given theta and Y_{0:t-1}\n",
    "        return stats.norm.logpdf(self.data[t], loc=theta['mu'],\n",
    "                                 scale = theta['sigma'])"
   ]
  },
  {
   "cell_type": "markdown",
   "metadata": {},
   "source": [
    "In words, we are considering a model where the observations are $Y_t\\sim N(\\mu, \\sigma^2)$. The parameter is $\\theta=(\\mu, \\sigma)$.\n",
    "\n",
    "Class `ToyModel` contains information about the likelihood of the considered model, but not about its prior, or the considered data. First, let's define those:"
   ]
  },
  {
   "cell_type": "code",
   "execution_count": 2,
   "metadata": {},
   "outputs": [],
   "source": [
    "T = 1000\n",
    "my_data = stats.norm.rvs(loc=3.14, size=T)  # simulated data\n",
    "my_prior = dists.StructDist({'mu': dists.Normal(scale=10.),\n",
    "                             'sigma': dists.Gamma()})"
   ]
  },
  {
   "cell_type": "markdown",
   "metadata": {},
   "source": [
    "For more details about to define prior distributions, see the documentation of module `distributions`, or the previous [tutorial on Bayesian estimation of state-space models](Bayes_estimation_ssm.ipynb). Now that we have everything, let's specify our static model: "
   ]
  },
  {
   "cell_type": "code",
   "execution_count": 3,
   "metadata": {},
   "outputs": [],
   "source": [
    "my_static_model = ToyModel(data=my_data, prior=my_prior)"
   ]
  },
  {
   "cell_type": "markdown",
   "metadata": {},
   "source": [
    "This time, object `my_static_model` has enough information to define the posterior distribution(s) of the model (given all data, or part of the data). In fact, it inherits from `StaticModel` method `logpost`, which evaluates (for a collection of $\\theta$ values) the posterior log-density at any time $t$ (meaning given data $y_{0:t}$). "
   ]
  },
  {
   "cell_type": "code",
   "execution_count": 4,
   "metadata": {},
   "outputs": [
    {
     "data": {
      "text/plain": [
       "array([-1.16002020e+04, -1.76306582e+02, -1.53432234e+02, -5.61957138e+01,\n",
       "       -1.09100249e+01])"
      ]
     },
     "execution_count": 4,
     "metadata": {},
     "output_type": "execute_result"
    }
   ],
   "source": [
    "thetas = my_prior.rvs(size=5) \n",
    "my_static_model.logpost(thetas, t=2)  # if t is omitted, gives the full posterior"
   ]
  },
  {
   "cell_type": "markdown",
   "metadata": {},
   "source": [
    "The input of `logpost` (and output of `myprior.rvs()`) is a [structured array](https://docs.scipy.org/doc/numpy/user/basics.rec.html), with the same keys as the prior distribution:"
   ]
  },
  {
   "cell_type": "code",
   "execution_count": 5,
   "metadata": {},
   "outputs": [
    {
     "data": {
      "text/plain": [
       "-2.4661701842790147"
      ]
     },
     "execution_count": 5,
     "metadata": {},
     "output_type": "execute_result"
    }
   ],
   "source": [
    "thetas['mu'][0]"
   ]
  },
  {
   "cell_type": "markdown",
   "metadata": {},
   "source": [
    "Typically, you won't need to call `logpost` yourself, this will be done by the SMC sampler for you. "
   ]
  },
  {
   "cell_type": "markdown",
   "metadata": {},
   "source": [
    "## IBIS\n",
    "The IBIS (iterated batch importance sampling) algorithm is a SMC sampler that samples iteratively from a sequence of posterior distributions, \n",
    "$p(\\theta|y_{0:t})$, for $t=0,1,\\ldots$. \n",
    "\n",
    "Module `smc_samplers` defines `IBIS` as a subclass of `FeynmanKac`. "
   ]
  },
  {
   "cell_type": "code",
   "execution_count": 6,
   "metadata": {},
   "outputs": [],
   "source": [
    "my_ibis = ssp.IBIS(my_static_model)\n",
    "my_alg = particles.SMC(fk=my_ibis, N=1000, store_history=True)\n",
    "my_alg.run()"
   ]
  },
  {
   "cell_type": "markdown",
   "metadata": {},
   "source": [
    "Since we set `store_history` to `True`, the particles and their weights have been saved at every time (in attribute `hist`, see previous tutorials on smoothing). Let's plot the posterior distributions of $\\mu$ and $\\sigma$ at various times."
   ]
  },
  {
   "cell_type": "code",
   "execution_count": 8,
   "metadata": {},
   "outputs": [
    {
     "data": {
      "image/png": "[encoded data removed]",
      "text/plain": [
       "<Figure size 432x288 with 2 Axes>"
      ]
     },
     "metadata": {},
     "output_type": "display_data"
    }
   ],
   "source": [
    "plt.style.use('ggplot')\n",
    "for i, p in enumerate(['mu', 'sigma']):\n",
    "    plt.subplot(1, 2, i + 1)\n",
    "    for t in [100, 300, 900]:\n",
    "        plt.hist(my_alg.hist.X[t].theta[p], weights=my_alg.hist.wgts[t].W, label=\"t=%i\" % t, \n",
    "                 alpha=0.5, density=True)\n",
    "    plt.xlabel(p)\n",
    "plt.legend();"
   ]
  },
  {
   "cell_type": "markdown",
   "metadata": {},
   "source": [
    "As expected, the posterior distribution concentrates progressively around the true values. \n",
    "\n",
    "As before, once the algorithm is run, `my_smc.X` contains the N final particles. However, object `my_smc.X` is no longer a simple (N,) or (N,d) numpy array. It is a `ThetaParticles` object, with attributes:\n",
    "\n",
    "* theta: a structured array: as mentioned above, this is an array with fields; i.e. `my_smc.X.theta['mu']` is a (N,) array that contains the the $\\mu-$component of the $N$ particles; \n",
    "* `lpost`: a (N,) numpy array that contains the target (posterior) log-density of each of the N particles;\n",
    "* `acc_rates`: a list of the acceptance rates of the resample-move steps."
   ]
  },
  {
   "cell_type": "code",
   "execution_count": 9,
   "metadata": {},
   "outputs": [
    {
     "name": "stdout",
     "output_type": "stream",
     "text": [
      "['25.22%', '23.92%', '23.83%', '28.42%', '34.06%', '33.80%', '34.38%', '34.80%', '35.77%', '35.95%']\n"
     ]
    },
    {
     "data": {
      "image/png": "[encoded data removed]",
      "text/plain": [
       "<Figure size 432x288 with 1 Axes>"
      ]
     },
     "metadata": {},
     "output_type": "display_data"
    }
   ],
   "source": [
    "print([\"%2.2f%%\" % (100 * np.mean(r)) for r in my_alg.X.acc_rates])\n",
    "plt.hist(my_alg.X.lpost, 30);"
   ]
  },
  {
   "cell_type": "markdown",
   "metadata": {},
   "source": [
    "You do not need to know much more about class `ThetaParticles` for most practical purposes (see however the documention of module `smc_samplers` if you do want to know more, e.g. in order to implement other classes of SMC samplers)."
   ]
  },
  {
   "cell_type": "markdown",
   "metadata": {},
   "source": [
    "## Regarding the Metropolis steps\n",
    "\n",
    "As the text output of `my_alg.run()` suggests, the algorithm \"resample-moves\" whenever the ESS is below a certain threshold ($N/2$ by default). When this occurs, particles are resampled, and then moved through a certain number of Metropolis-Hastings steps. By default, the proposal is a Gaussian random walk, and both the number of steps and the covariance matrix of the random walk are chosen automatically as follows:\n",
    " \n",
    "* the covariance matrix of the random walk is set to `scale` times   the empirical (weighted) covariance matrix of the particles. The default value for `scale` is $2.38 / \\sqrt{d}$, where $d$ is the dimension of $\\theta$. \n",
    "* the algorithm performs Metropolis steps until the relative increase of the  average distance between the starting point and the end point is below a certain threshold $\\delta$. \n",
    "\n",
    "Class `IBIS` takes as an optional argument `mh_options`, a dictionary which may contain the following (key, values) pairs: \n",
    "\n",
    "* `'type_prop'`: either `'random walk'` or `'independent`'; in the latter case, an independent Gaussian proposal is used. The mean of the Gaussian is set to the weighted mean of the particles. The variance is set to `scale` times the weighted variance of the particles. \n",
    "* `'scale`': the scale of the proposal (as explained above). \n",
    "* `'nsteps'`: number of steps. If set to `0`, the adaptive strategy described above is used. \n",
    "\n",
    "Let's illustrate all this by calling IBIS again: "
   ]
  },
  {
   "cell_type": "code",
   "execution_count": 10,
   "metadata": {},
   "outputs": [],
   "source": [
    "alt_ibis = ssp.IBIS(my_static_model, mh_options={'type_prop': 'independent', \n",
    "                                                 'nsteps': 10})\n",
    "alt_alg = particles.SMC(fk=alt_ibis, N=1000, ESSrmin=0.2)\n",
    "alt_alg.run()"
   ]
  },
  {
   "cell_type": "markdown",
   "metadata": {},
   "source": [
    "Well, apparently the algorithm did what we asked. We have also changed the threshold of \n",
    " Let's see how the ESS evolved:"
   ]
  },
  {
   "cell_type": "code",
   "execution_count": 11,
   "metadata": {},
   "outputs": [
    {
     "data": {
      "text/plain": [
       "Text(0, 0.5, 'ESS')"
      ]
     },
     "execution_count": 11,
     "metadata": {},
     "output_type": "execute_result"
    },
    {
     "data": {
      "image/png": "[encoded data removed]",
      "text/plain": [
       "<Figure size 432x288 with 1 Axes>"
      ]
     },
     "metadata": {},
     "output_type": "display_data"
    }
   ],
   "source": [
    "plt.plot(alt_alg.summaries.ESSs)\n",
    "plt.xlabel('t')\n",
    "plt.ylabel('ESS')"
   ]
  },
  {
   "cell_type": "markdown",
   "metadata": {},
   "source": [
    "As expected, the algorithm waits until the ESS is below 200 to trigger a resample-move step."
   ]
  },
  {
   "cell_type": "markdown",
   "metadata": {},
   "source": [
    "## SMC tempering\n",
    "\n",
    "SMC tempering is a SMC sampler that samples iteratively from the following sequence of distributions:\n",
    "\n",
    "\\begin{equation}\n",
    "\\pi_t(\\theta) \\propto \\pi(\\theta) L(\\theta)^\\gamma_t\n",
    "\\end{equation}\n",
    "\n",
    "with $0=\\gamma_0 < \\ldots < \\gamma_T = 1$. In words, this sequence is a **geometric bridge**, which interpolates between the prior and the posterior. \n",
    "\n",
    "SMC tempering implemented in the same was as IBIS: as a sub-class of `FeynmanKac`, whose `__init__` function takes as argument a `StaticModel` object. "
   ]
  },
  {
   "cell_type": "code",
   "execution_count": 12,
   "metadata": {},
   "outputs": [
    {
     "name": "stdout",
     "output_type": "stream",
     "text": [
      "t=0, ESS=500.00, tempering exponent=3.02e-05\n",
      "t=1, Metropolis acc. rate (over 5 steps): 0.243, ESS=500.00, tempering exponent=0.000328\n",
      "t=2, Metropolis acc. rate (over 7 steps): 0.245, ESS=500.00, tempering exponent=0.00177\n",
      "t=3, Metropolis acc. rate (over 7 steps): 0.241, ESS=500.00, tempering exponent=0.00601\n",
      "t=4, Metropolis acc. rate (over 7 steps): 0.288, ESS=500.00, tempering exponent=0.0193\n",
      "t=5, Metropolis acc. rate (over 6 steps): 0.333, ESS=500.00, tempering exponent=0.0637\n",
      "t=6, Metropolis acc. rate (over 5 steps): 0.366, ESS=500.00, tempering exponent=0.231\n",
      "t=7, Metropolis acc. rate (over 6 steps): 0.357, ESS=500.00, tempering exponent=0.77\n",
      "t=8, Metropolis acc. rate (over 5 steps): 0.358, ESS=943.23, tempering exponent=1\n"
     ]
    }
   ],
   "source": [
    "fk_tempering = ssp.AdaptiveTempering(my_static_model)\n",
    "my_temp_alg = particles.SMC(fk=fk_tempering, N=1000, ESSrmin=1., verbose=True)\n",
    "my_temp_alg.run()"
   ]
  },
  {
   "cell_type": "markdown",
   "metadata": {},
   "source": [
    "**Note**: Recall that `SMC` resamples every time the ESS drops below value N times option `ESSrmin`; here we set it to to 1, since we want to resample at every time. This makes sense: Adaptive SMC chooses adaptively the successive values of $\\gamma_t$ so that the ESS drops to $N/2$ (by default). \n",
    "\n",
    "**Note**: we use option `verbose=True` in `SMC` in order to print some information on the intermediate distributions. \n",
    "\n",
    "We have not saved the intermediate results this time (option `store_history` was not set) since they are not particularly interesting. Let's look at the final results: "
   ]
  },
  {
   "cell_type": "code",
   "execution_count": 13,
   "metadata": {},
   "outputs": [
    {
     "data": {
      "image/png": "[encoded data removed]",
      "text/plain": [
       "<Figure size 432x288 with 2 Axes>"
      ]
     },
     "metadata": {},
     "output_type": "display_data"
    }
   ],
   "source": [
    "for i, p in enumerate(['mu', 'sigma']):\n",
    "    plt.subplot(1, 2, i + 1)\n",
    "    sb.distplot(my_temp_alg.X.theta[p])\n",
    "    plt.xlabel(p)"
   ]
  },
  {
   "cell_type": "markdown",
   "metadata": {},
   "source": [
    "This looks reasonable!\n",
    "You can see from the output that the algorithm automatically chooses the tempering exponents $\\gamma_1, \\gamma_2,\\ldots$. In fact, at iteration $t$, the next value for $\\gamma$ is set that the ESS drops at most to $N/2$. You can change this particular threshold by passing argument ESSrmin to TemperingSMC. (Warning: do not mistake this with the `ESSrmin` argument of class `SMC`):"
   ]
  },
  {
   "cell_type": "code",
   "execution_count": 14,
   "metadata": {},
   "outputs": [
    {
     "name": "stdout",
     "output_type": "stream",
     "text": [
      "t=0, ESS=100.00, tempering exponent=0.00104\n",
      "t=1, Metropolis acc. rate (over 6 steps): 0.247, ESS=100.00, tempering exponent=0.0208\n",
      "t=2, Metropolis acc. rate (over 6 steps): 0.295, ESS=100.00, tempering exponent=0.514\n",
      "t=3, Metropolis acc. rate (over 6 steps): 0.370, ESS=760.26, tempering exponent=1\n"
     ]
    }
   ],
   "source": [
    "lazy_tempering = ssp.AdaptiveTempering(my_static_model, ESSrmin = 0.1)\n",
    "lazy_alg = particles.SMC(fk=lazy_tempering, N=1000, verbose=True)\n",
    "lazy_alg.run()"
   ]
  },
  {
   "cell_type": "markdown",
   "metadata": {},
   "source": [
    "The algorithm progresses faster this time, but the ESS drops more between each step.\n",
    "Another optional argument for Class `TemperingSMC` is `options_mh`, which works exactly as for `IBIS`, see above. That is, by default, the particles are moved according to a certain (adaptative) number of random walk steps, with a variance calibrated to the particle variance."
   ]
  }
 ],
 "metadata": {
  "kernelspec": {
   "display_name": "Python 3",
   "language": "python",
   "name": "python3"
  },
  "language_info": {
   "codemirror_mode": {
    "name": "ipython",
    "version": 3
   },
   "file_extension": ".py",
   "mimetype": "text/x-python",
   "name": "python",
   "nbconvert_exporter": "python",
   "pygments_lexer": "ipython3",
   "version": "3.8.3"
  }
 },
 "nbformat": 4,
 "nbformat_minor": 1
}
